{
 "cells": [
  {
   "cell_type": "code",
   "execution_count": 2,
   "metadata": {},
   "outputs": [],
   "source": [
    "import json\n",
    "import pandas as pd"
   ]
  },
  {
   "cell_type": "code",
   "execution_count": 57,
   "metadata": {},
   "outputs": [],
   "source": [
    "dogs = pd.read_csv(\"Dogs-Database.csv\")\n",
    "flights = pd.read_csv(\"Flights-Database.csv\")"
   ]
  },
  {
   "cell_type": "code",
   "execution_count": 63,
   "metadata": {},
   "outputs": [],
   "source": [
    "\n",
    "yearset = []"
   ]
  },
  {
   "cell_type": "code",
   "execution_count": 61,
   "metadata": {},
   "outputs": [
    {
     "output_type": "execute_result",
     "data": {
      "text/html": "<div>\n<style scoped>\n    .dataframe tbody tr th:only-of-type {\n        vertical-align: middle;\n    }\n\n    .dataframe tbody tr th {\n        vertical-align: top;\n    }\n\n    .dataframe thead th {\n        text-align: right;\n    }\n</style>\n<table border=\"1\" class=\"dataframe\">\n  <thead>\n    <tr style=\"text-align: right;\">\n      <th></th>\n      <th>Date</th>\n      <th>Dogs</th>\n      <th>Rocket</th>\n      <th>Altitude (km)</th>\n      <th>Result</th>\n      <th>Notes</th>\n    </tr>\n  </thead>\n  <tbody>\n    <tr>\n      <th>0</th>\n      <td>1951</td>\n      <td>Dezik,Tsygan</td>\n      <td>R-1V</td>\n      <td>100</td>\n      <td>recovered safely</td>\n      <td>NaN</td>\n    </tr>\n    <tr>\n      <th>1</th>\n      <td>1951</td>\n      <td>Dezik,Lisa</td>\n      <td>R-1B</td>\n      <td>100</td>\n      <td>parachute failed, both dogs died</td>\n      <td>NaN</td>\n    </tr>\n    <tr>\n      <th>2</th>\n      <td>1951</td>\n      <td>Chizhik,Mishka</td>\n      <td>R-1B</td>\n      <td>100</td>\n      <td>recovered safely</td>\n      <td>NaN</td>\n    </tr>\n    <tr>\n      <th>3</th>\n      <td>1951</td>\n      <td>Ryzhik,Smeliy</td>\n      <td>R-1V</td>\n      <td>100</td>\n      <td>recovered safely</td>\n      <td>NaN</td>\n    </tr>\n    <tr>\n      <th>4</th>\n      <td>1951</td>\n      <td>Chizhik,Mishka</td>\n      <td>R-1B</td>\n      <td>100</td>\n      <td>failed, both dogs died</td>\n      <td>NaN</td>\n    </tr>\n    <tr>\n      <th>5</th>\n      <td>1951</td>\n      <td>Neputeviy,ZIB</td>\n      <td>R-1B</td>\n      <td>100</td>\n      <td>recovered safely</td>\n      <td>NaN</td>\n    </tr>\n    <tr>\n      <th>6</th>\n      <td>1951</td>\n      <td>Lisa-2,Ryzhik-2</td>\n      <td>R-1D</td>\n      <td>100</td>\n      <td>recovered safely</td>\n      <td>NaN</td>\n    </tr>\n    <tr>\n      <th>7</th>\n      <td>1954</td>\n      <td>Damka,Mishka-2</td>\n      <td>R-1D</td>\n      <td>100</td>\n      <td>recovered safely, mishka-2 died</td>\n      <td>NaN</td>\n    </tr>\n    <tr>\n      <th>8</th>\n      <td>1954</td>\n      <td>Damka,Ryzhik-2</td>\n      <td>R-1D</td>\n      <td>100</td>\n      <td>recovered safely, ryshik-2 died</td>\n      <td>NaN</td>\n    </tr>\n    <tr>\n      <th>9</th>\n      <td>1954</td>\n      <td>Lisa-2,Ryzhik-3</td>\n      <td>unknown</td>\n      <td>unknown</td>\n      <td>recovered safely</td>\n      <td>no rocket or altitude info</td>\n    </tr>\n    <tr>\n      <th>10</th>\n      <td>1955</td>\n      <td>Rita,Linda</td>\n      <td>R-1E</td>\n      <td>100</td>\n      <td>recovered safely, rita died</td>\n      <td>or 1955-06-25</td>\n    </tr>\n    <tr>\n      <th>11</th>\n      <td>1955</td>\n      <td>Bulba,Lisa-2</td>\n      <td>R-1E</td>\n      <td>100</td>\n      <td>recovery failed, both dogs died</td>\n      <td>NaN</td>\n    </tr>\n    <tr>\n      <th>12</th>\n      <td>1955</td>\n      <td>Knopka,Malyshka</td>\n      <td>R-1E</td>\n      <td>100</td>\n      <td>recovered safely after 3 days</td>\n      <td>NaN</td>\n    </tr>\n    <tr>\n      <th>13</th>\n      <td>1956</td>\n      <td>Albina,Kozyavka</td>\n      <td>R-1E</td>\n      <td>100</td>\n      <td>recovered safely</td>\n      <td>NaN</td>\n    </tr>\n    <tr>\n      <th>14</th>\n      <td>1956</td>\n      <td>Linda,Malyshka</td>\n      <td>R-1E</td>\n      <td>100</td>\n      <td>recovered safely</td>\n      <td>NaN</td>\n    </tr>\n    <tr>\n      <th>15</th>\n      <td>1956</td>\n      <td>Albina,Kozyavka</td>\n      <td>R-1E</td>\n      <td>100</td>\n      <td>recovered safely</td>\n      <td>NaN</td>\n    </tr>\n    <tr>\n      <th>16</th>\n      <td>1956</td>\n      <td>Albina,Kozyavka</td>\n      <td>R-1E</td>\n      <td>100</td>\n      <td>recovered safely</td>\n      <td>NaN</td>\n    </tr>\n    <tr>\n      <th>17</th>\n      <td>1957</td>\n      <td>Damka-2,Ryzhaya</td>\n      <td>R-2A</td>\n      <td>212</td>\n      <td>recovered safely</td>\n      <td>NaN</td>\n    </tr>\n    <tr>\n      <th>18</th>\n      <td>1957</td>\n      <td>Dzhoyna,Ryzhaya</td>\n      <td>R-2A</td>\n      <td>212</td>\n      <td>cabin decompression, both dogs died</td>\n      <td>NaN</td>\n    </tr>\n    <tr>\n      <th>19</th>\n      <td>1957</td>\n      <td>Belka,Modnitsa</td>\n      <td>R-2A</td>\n      <td>212</td>\n      <td>recovered safely</td>\n      <td>NaN</td>\n    </tr>\n    <tr>\n      <th>20</th>\n      <td>1957</td>\n      <td>Belka,Damka-2</td>\n      <td>R-2A</td>\n      <td>212</td>\n      <td>recovered safely</td>\n      <td>NaN</td>\n    </tr>\n    <tr>\n      <th>21</th>\n      <td>1957</td>\n      <td>Belka,Modnitsa</td>\n      <td>R-2A</td>\n      <td>212</td>\n      <td>recovered safely</td>\n      <td>NaN</td>\n    </tr>\n    <tr>\n      <th>22</th>\n      <td>1957</td>\n      <td>Laika</td>\n      <td>R-7, Sputnik 2</td>\n      <td>orbital</td>\n      <td>no recovery system, died in space</td>\n      <td>NaN</td>\n    </tr>\n    <tr>\n      <th>23</th>\n      <td>1958</td>\n      <td>Palma,Pushok</td>\n      <td>R-5A</td>\n      <td>451</td>\n      <td>cabin decompression, both dogs died</td>\n      <td>NaN</td>\n    </tr>\n    <tr>\n      <th>24</th>\n      <td>1958</td>\n      <td>Palma-2,Kusachka / Otvazhnaya</td>\n      <td>R-2A</td>\n      <td>212</td>\n      <td>recovered safely</td>\n      <td>NaN</td>\n    </tr>\n    <tr>\n      <th>25</th>\n      <td>1958</td>\n      <td>Palma-2,Kusachka / Otvazhnaya</td>\n      <td>R-2A</td>\n      <td>212</td>\n      <td>recovered safely</td>\n      <td>NaN</td>\n    </tr>\n    <tr>\n      <th>26</th>\n      <td>1958</td>\n      <td>Belyanka,Pestraya</td>\n      <td>R-5A</td>\n      <td>451</td>\n      <td>recovered safely</td>\n      <td>NaN</td>\n    </tr>\n    <tr>\n      <th>27</th>\n      <td>1958</td>\n      <td>Damka-2,Kozyavka</td>\n      <td>unknown</td>\n      <td>unknown</td>\n      <td>recovered safely</td>\n      <td>no rocket or altitude info</td>\n    </tr>\n    <tr>\n      <th>28</th>\n      <td>1958</td>\n      <td>Knopka,Zhulba</td>\n      <td>R-5A</td>\n      <td>451</td>\n      <td>parachute failed, both dogs died</td>\n      <td>NaN</td>\n    </tr>\n    <tr>\n      <th>29</th>\n      <td>1959</td>\n      <td>Kusachka / Otvazhnaya,Snezhinka / Zhemchuzhnaya</td>\n      <td>R-2A</td>\n      <td>212</td>\n      <td>recovered safely</td>\n      <td>flew with a rabbit named Marfusa</td>\n    </tr>\n    <tr>\n      <th>30</th>\n      <td>1959</td>\n      <td>Kusachka / Otvazhnaya,Snezhinka / Zhemchuzhnaya</td>\n      <td>R-2A</td>\n      <td>212</td>\n      <td>recovered safely</td>\n      <td>NaN</td>\n    </tr>\n    <tr>\n      <th>31</th>\n      <td>1960</td>\n      <td>Kusachka / Otvazhnaya,Malyok</td>\n      <td>R-2A</td>\n      <td>212</td>\n      <td>recovered safely</td>\n      <td>flew with a rabbit named Zvezdochka (Little Star)</td>\n    </tr>\n    <tr>\n      <th>32</th>\n      <td>1960</td>\n      <td>Kusachka / Otvazhnaya,Snezhinka / Zhemchuzhnaya</td>\n      <td>R-2A</td>\n      <td>212</td>\n      <td>recovered safely</td>\n      <td>Otvazhnaya's participation in this flight is q...</td>\n    </tr>\n    <tr>\n      <th>33</th>\n      <td>1960</td>\n      <td>Lisichka,Bars / Chaika</td>\n      <td>R-7, Vostok Prototype</td>\n      <td>was to be orbital</td>\n      <td>exploded during launch, both dogs died</td>\n      <td>NaN</td>\n    </tr>\n    <tr>\n      <th>34</th>\n      <td>1960</td>\n      <td>Belka,Strelka</td>\n      <td>R-7, Sputnik 5</td>\n      <td>orbital</td>\n      <td>spent one day in orbit, recovered safely</td>\n      <td>NaN</td>\n    </tr>\n    <tr>\n      <th>35</th>\n      <td>1960</td>\n      <td>Malyok,Palma-2</td>\n      <td>R-2A</td>\n      <td>212</td>\n      <td>recovered safely</td>\n      <td>NaN</td>\n    </tr>\n    <tr>\n      <th>36</th>\n      <td>1960</td>\n      <td>Kusachka / Otvazhnaya,Neva</td>\n      <td>unknown</td>\n      <td>unknown</td>\n      <td>recovered safely</td>\n      <td>Otvazhnaya's participation in this flight is q...</td>\n    </tr>\n    <tr>\n      <th>37</th>\n      <td>1960</td>\n      <td>Mushka,Pchyolka</td>\n      <td>R-7, Sputnik 6</td>\n      <td>orbital</td>\n      <td>spent one day in orbit, capsule was destroyed,...</td>\n      <td>NaN</td>\n    </tr>\n    <tr>\n      <th>38</th>\n      <td>1960</td>\n      <td>Shutka,Kometka</td>\n      <td>R-7</td>\n      <td>was to be orbital</td>\n      <td>upper stage failed, dogs recovered after a sub...</td>\n      <td>NaN</td>\n    </tr>\n    <tr>\n      <th>39</th>\n      <td>1961</td>\n      <td>Chernuskha</td>\n      <td>R-7, Sputnik 9</td>\n      <td>orbital</td>\n      <td>one orbit, recovered safely</td>\n      <td>flew with a mannequin named Ivan Ivanovic</td>\n    </tr>\n    <tr>\n      <th>40</th>\n      <td>1961</td>\n      <td>Zvezdochka</td>\n      <td>R-7, Sputnik 10</td>\n      <td>orbital</td>\n      <td>one orbit, recovered safely</td>\n      <td>flew with a mannequin named Ivan Ivanovic</td>\n    </tr>\n    <tr>\n      <th>41</th>\n      <td>1966</td>\n      <td>Ugolyok / Snezhok,Veterok / Bzdunok</td>\n      <td>Voskhod, Cosmos 110</td>\n      <td>orbital</td>\n      <td>recovered safely after a 22-day flight</td>\n      <td>NaN</td>\n    </tr>\n  </tbody>\n</table>\n</div>",
      "text/plain": [
       "    Date                                             Dogs  \\\n",
       "0   1951                                     Dezik,Tsygan   \n",
       "1   1951                                       Dezik,Lisa   \n",
       "2   1951                                   Chizhik,Mishka   \n",
       "3   1951                                    Ryzhik,Smeliy   \n",
       "4   1951                                   Chizhik,Mishka   \n",
       "5   1951                                    Neputeviy,ZIB   \n",
       "6   1951                                  Lisa-2,Ryzhik-2   \n",
       "7   1954                                   Damka,Mishka-2   \n",
       "8   1954                                   Damka,Ryzhik-2   \n",
       "9   1954                                  Lisa-2,Ryzhik-3   \n",
       "10  1955                                       Rita,Linda   \n",
       "11  1955                                     Bulba,Lisa-2   \n",
       "12  1955                                  Knopka,Malyshka   \n",
       "13  1956                                  Albina,Kozyavka   \n",
       "14  1956                                   Linda,Malyshka   \n",
       "15  1956                                  Albina,Kozyavka   \n",
       "16  1956                                  Albina,Kozyavka   \n",
       "17  1957                                  Damka-2,Ryzhaya   \n",
       "18  1957                                  Dzhoyna,Ryzhaya   \n",
       "19  1957                                   Belka,Modnitsa   \n",
       "20  1957                                    Belka,Damka-2   \n",
       "21  1957                                   Belka,Modnitsa   \n",
       "22  1957                                            Laika   \n",
       "23  1958                                     Palma,Pushok   \n",
       "24  1958                    Palma-2,Kusachka / Otvazhnaya   \n",
       "25  1958                    Palma-2,Kusachka / Otvazhnaya   \n",
       "26  1958                                Belyanka,Pestraya   \n",
       "27  1958                                 Damka-2,Kozyavka   \n",
       "28  1958                                    Knopka,Zhulba   \n",
       "29  1959  Kusachka / Otvazhnaya,Snezhinka / Zhemchuzhnaya   \n",
       "30  1959  Kusachka / Otvazhnaya,Snezhinka / Zhemchuzhnaya   \n",
       "31  1960                     Kusachka / Otvazhnaya,Malyok   \n",
       "32  1960  Kusachka / Otvazhnaya,Snezhinka / Zhemchuzhnaya   \n",
       "33  1960                           Lisichka,Bars / Chaika   \n",
       "34  1960                                    Belka,Strelka   \n",
       "35  1960                                   Malyok,Palma-2   \n",
       "36  1960                       Kusachka / Otvazhnaya,Neva   \n",
       "37  1960                                  Mushka,Pchyolka   \n",
       "38  1960                                   Shutka,Kometka   \n",
       "39  1961                                       Chernuskha   \n",
       "40  1961                                       Zvezdochka   \n",
       "41  1966              Ugolyok / Snezhok,Veterok / Bzdunok   \n",
       "\n",
       "                   Rocket      Altitude (km)  \\\n",
       "0                    R-1V                100   \n",
       "1                    R-1B                100   \n",
       "2                    R-1B                100   \n",
       "3                    R-1V                100   \n",
       "4                    R-1B                100   \n",
       "5                    R-1B                100   \n",
       "6                    R-1D                100   \n",
       "7                    R-1D                100   \n",
       "8                    R-1D                100   \n",
       "9                 unknown            unknown   \n",
       "10                   R-1E                100   \n",
       "11                   R-1E                100   \n",
       "12                   R-1E                100   \n",
       "13                   R-1E                100   \n",
       "14                   R-1E                100   \n",
       "15                   R-1E                100   \n",
       "16                   R-1E                100   \n",
       "17                   R-2A                212   \n",
       "18                   R-2A                212   \n",
       "19                   R-2A                212   \n",
       "20                   R-2A                212   \n",
       "21                   R-2A                212   \n",
       "22         R-7, Sputnik 2            orbital   \n",
       "23                   R-5A                451   \n",
       "24                   R-2A                212   \n",
       "25                   R-2A                212   \n",
       "26                   R-5A                451   \n",
       "27                unknown            unknown   \n",
       "28                   R-5A                451   \n",
       "29                   R-2A                212   \n",
       "30                   R-2A                212   \n",
       "31                   R-2A                212   \n",
       "32                   R-2A                212   \n",
       "33  R-7, Vostok Prototype  was to be orbital   \n",
       "34         R-7, Sputnik 5            orbital   \n",
       "35                   R-2A                212   \n",
       "36                unknown            unknown   \n",
       "37         R-7, Sputnik 6            orbital   \n",
       "38                    R-7  was to be orbital   \n",
       "39         R-7, Sputnik 9            orbital   \n",
       "40        R-7, Sputnik 10            orbital   \n",
       "41    Voskhod, Cosmos 110            orbital   \n",
       "\n",
       "                                               Result  \\\n",
       "0                                    recovered safely   \n",
       "1                    parachute failed, both dogs died   \n",
       "2                                    recovered safely   \n",
       "3                                    recovered safely   \n",
       "4                              failed, both dogs died   \n",
       "5                                    recovered safely   \n",
       "6                                    recovered safely   \n",
       "7                     recovered safely, mishka-2 died   \n",
       "8                     recovered safely, ryshik-2 died   \n",
       "9                                    recovered safely   \n",
       "10                        recovered safely, rita died   \n",
       "11                    recovery failed, both dogs died   \n",
       "12                      recovered safely after 3 days   \n",
       "13                                   recovered safely   \n",
       "14                                   recovered safely   \n",
       "15                                   recovered safely   \n",
       "16                                   recovered safely   \n",
       "17                                   recovered safely   \n",
       "18                cabin decompression, both dogs died   \n",
       "19                                   recovered safely   \n",
       "20                                   recovered safely   \n",
       "21                                   recovered safely   \n",
       "22                  no recovery system, died in space   \n",
       "23                cabin decompression, both dogs died   \n",
       "24                                   recovered safely   \n",
       "25                                   recovered safely   \n",
       "26                                   recovered safely   \n",
       "27                                   recovered safely   \n",
       "28                   parachute failed, both dogs died   \n",
       "29                                   recovered safely   \n",
       "30                                   recovered safely   \n",
       "31                                   recovered safely   \n",
       "32                                   recovered safely   \n",
       "33             exploded during launch, both dogs died   \n",
       "34           spent one day in orbit, recovered safely   \n",
       "35                                   recovered safely   \n",
       "36                                   recovered safely   \n",
       "37  spent one day in orbit, capsule was destroyed,...   \n",
       "38  upper stage failed, dogs recovered after a sub...   \n",
       "39                        one orbit, recovered safely   \n",
       "40                        one orbit, recovered safely   \n",
       "41             recovered safely after a 22-day flight   \n",
       "\n",
       "                                                Notes  \n",
       "0                                                 NaN  \n",
       "1                                                 NaN  \n",
       "2                                                 NaN  \n",
       "3                                                 NaN  \n",
       "4                                                 NaN  \n",
       "5                                                 NaN  \n",
       "6                                                 NaN  \n",
       "7                                                 NaN  \n",
       "8                                                 NaN  \n",
       "9                          no rocket or altitude info  \n",
       "10                                      or 1955-06-25  \n",
       "11                                                NaN  \n",
       "12                                                NaN  \n",
       "13                                                NaN  \n",
       "14                                                NaN  \n",
       "15                                                NaN  \n",
       "16                                                NaN  \n",
       "17                                                NaN  \n",
       "18                                                NaN  \n",
       "19                                                NaN  \n",
       "20                                                NaN  \n",
       "21                                                NaN  \n",
       "22                                                NaN  \n",
       "23                                                NaN  \n",
       "24                                                NaN  \n",
       "25                                                NaN  \n",
       "26                                                NaN  \n",
       "27                         no rocket or altitude info  \n",
       "28                                                NaN  \n",
       "29                   flew with a rabbit named Marfusa  \n",
       "30                                                NaN  \n",
       "31  flew with a rabbit named Zvezdochka (Little Star)  \n",
       "32  Otvazhnaya's participation in this flight is q...  \n",
       "33                                                NaN  \n",
       "34                                                NaN  \n",
       "35                                                NaN  \n",
       "36  Otvazhnaya's participation in this flight is q...  \n",
       "37                                                NaN  \n",
       "38                                                NaN  \n",
       "39          flew with a mannequin named Ivan Ivanovic  \n",
       "40          flew with a mannequin named Ivan Ivanovic  \n",
       "41                                                NaN  "
      ]
     },
     "metadata": {},
     "execution_count": 61
    }
   ],
   "source": [
    "flights"
   ]
  },
  {
   "cell_type": "code",
   "execution_count": 59,
   "metadata": {},
   "outputs": [
    {
     "output_type": "execute_result",
     "data": {
      "text/plain": [
       "1951"
      ]
     },
     "metadata": {},
     "execution_count": 59
    }
   ],
   "source": [
    "pd.to_datetime(flights['Date'][0]).year"
   ]
  },
  {
   "cell_type": "code",
   "execution_count": 60,
   "metadata": {},
   "outputs": [],
   "source": [
    "for index, row in flights.iterrows():\n",
    "        row['Date'] = pd.to_datetime(flights['Date'][index]).year"
   ]
  },
  {
   "cell_type": "code",
   "execution_count": 64,
   "metadata": {},
   "outputs": [],
   "source": [
    "for index, row in flights.iterrows():\n",
    "    yearset.append(row['Date'])"
   ]
  },
  {
   "cell_type": "code",
   "execution_count": 65,
   "metadata": {},
   "outputs": [
    {
     "output_type": "execute_result",
     "data": {
      "text/plain": [
       "{1951, 1954, 1955, 1956, 1957, 1958, 1959, 1960, 1961, 1966}"
      ]
     },
     "metadata": {},
     "execution_count": 65
    }
   ],
   "source": [
    "yearset = set(yearset)\n",
    "yearset"
   ]
  },
  {
   "cell_type": "code",
   "execution_count": 41,
   "metadata": {},
   "outputs": [
    {
     "output_type": "stream",
     "name": "stdout",
     "text": [
      "hello\nhello\nhello\nhello\nhello\nhello\nhello\nhello\nhello\nhello\n"
     ]
    }
   ],
   "source": [
    "for i in range(1951,1967):\n",
    "    if i in yearset:\n",
    "        print \"hello\""
   ]
  },
  {
   "cell_type": "code",
   "execution_count": 68,
   "metadata": {},
   "outputs": [],
   "source": [
    "ans = {\n",
    "    \"1951\": [],\n",
    "    \"1954\": [],\n",
    "    \"1955\": [],\n",
    "    \"1956\": [],\n",
    "    \"1957\": [],\n",
    "    \"1958\": [],\n",
    "    \"1959\": [],\n",
    "    \"1960\": [],\n",
    "    \"1961\": [],\n",
    "    \"1966\": [],\n",
    "}"
   ]
  },
  {
   "cell_type": "code",
   "execution_count": 69,
   "metadata": {},
   "outputs": [
    {
     "output_type": "execute_result",
     "data": {
      "text/plain": [
       "{'1951': [],\n",
       " '1954': [],\n",
       " '1955': [],\n",
       " '1956': [],\n",
       " '1957': [],\n",
       " '1958': [],\n",
       " '1959': [],\n",
       " '1960': [],\n",
       " '1961': [],\n",
       " '1966': []}"
      ]
     },
     "metadata": {},
     "execution_count": 69
    }
   ],
   "source": [
    "ans"
   ]
  },
  {
   "cell_type": "code",
   "execution_count": 72,
   "metadata": {},
   "outputs": [],
   "source": [
    "for index, row in flights.iterrows():\n",
    "    x = {\n",
    "        \"dogs\" : row['Dogs'],\n",
    "        \"rocket\": row['Rocket'],\n",
    "        \"altitude\": row['Altitude (km)'],\n",
    "        \"result\": row['Result'],\n",
    "    }\n",
    "    ans[str(row['Date'])].append(x)"
   ]
  },
  {
   "cell_type": "code",
   "execution_count": 73,
   "metadata": {},
   "outputs": [
    {
     "output_type": "execute_result",
     "data": {
      "text/plain": [
       "{'1951': [{'altitude': '100',\n",
       "   'dogs': 'Dezik,Tsygan',\n",
       "   'result': 'recovered safely',\n",
       "   'rocket': 'R-1V'},\n",
       "  {'altitude': '100',\n",
       "   'dogs': 'Dezik,Lisa',\n",
       "   'result': 'parachute failed, both dogs died',\n",
       "   'rocket': 'R-1B'},\n",
       "  {'altitude': '100',\n",
       "   'dogs': 'Chizhik,Mishka',\n",
       "   'result': 'recovered safely',\n",
       "   'rocket': 'R-1B'},\n",
       "  {'altitude': '100',\n",
       "   'dogs': 'Ryzhik,Smeliy',\n",
       "   'result': 'recovered safely',\n",
       "   'rocket': 'R-1V'},\n",
       "  {'altitude': '100',\n",
       "   'dogs': 'Chizhik,Mishka',\n",
       "   'result': 'failed, both dogs died',\n",
       "   'rocket': 'R-1B'},\n",
       "  {'altitude': '100',\n",
       "   'dogs': 'Neputeviy,ZIB',\n",
       "   'result': 'recovered safely',\n",
       "   'rocket': 'R-1B'},\n",
       "  {'altitude': '100',\n",
       "   'dogs': 'Lisa-2,Ryzhik-2',\n",
       "   'result': 'recovered safely',\n",
       "   'rocket': 'R-1D'}],\n",
       " '1954': [{'altitude': '100',\n",
       "   'dogs': 'Damka,Mishka-2',\n",
       "   'result': 'recovered safely, mishka-2 died',\n",
       "   'rocket': 'R-1D'},\n",
       "  {'altitude': '100',\n",
       "   'dogs': 'Damka,Ryzhik-2',\n",
       "   'result': 'recovered safely, ryshik-2 died',\n",
       "   'rocket': 'R-1D'},\n",
       "  {'altitude': 'unknown',\n",
       "   'dogs': 'Lisa-2,Ryzhik-3',\n",
       "   'result': 'recovered safely',\n",
       "   'rocket': 'unknown'}],\n",
       " '1955': [{'altitude': '100',\n",
       "   'dogs': 'Rita,Linda',\n",
       "   'result': 'recovered safely, rita died',\n",
       "   'rocket': 'R-1E'},\n",
       "  {'altitude': '100',\n",
       "   'dogs': 'Bulba,Lisa-2',\n",
       "   'result': 'recovery failed, both dogs died',\n",
       "   'rocket': 'R-1E'},\n",
       "  {'altitude': '100',\n",
       "   'dogs': 'Knopka,Malyshka',\n",
       "   'result': 'recovered safely after 3 days',\n",
       "   'rocket': 'R-1E'}],\n",
       " '1956': [{'altitude': '100',\n",
       "   'dogs': 'Albina,Kozyavka',\n",
       "   'result': 'recovered safely',\n",
       "   'rocket': 'R-1E'},\n",
       "  {'altitude': '100',\n",
       "   'dogs': 'Linda,Malyshka',\n",
       "   'result': 'recovered safely',\n",
       "   'rocket': 'R-1E'},\n",
       "  {'altitude': '100',\n",
       "   'dogs': 'Albina,Kozyavka',\n",
       "   'result': 'recovered safely',\n",
       "   'rocket': 'R-1E'},\n",
       "  {'altitude': '100',\n",
       "   'dogs': 'Albina,Kozyavka',\n",
       "   'result': 'recovered safely',\n",
       "   'rocket': 'R-1E'}],\n",
       " '1957': [{'altitude': '212',\n",
       "   'dogs': 'Damka-2,Ryzhaya',\n",
       "   'result': 'recovered safely',\n",
       "   'rocket': 'R-2A'},\n",
       "  {'altitude': '212',\n",
       "   'dogs': 'Dzhoyna,Ryzhaya',\n",
       "   'result': 'cabin decompression, both dogs died',\n",
       "   'rocket': 'R-2A'},\n",
       "  {'altitude': '212',\n",
       "   'dogs': 'Belka,Modnitsa',\n",
       "   'result': 'recovered safely',\n",
       "   'rocket': 'R-2A'},\n",
       "  {'altitude': '212',\n",
       "   'dogs': 'Belka,Damka-2',\n",
       "   'result': 'recovered safely',\n",
       "   'rocket': 'R-2A'},\n",
       "  {'altitude': '212',\n",
       "   'dogs': 'Belka,Modnitsa',\n",
       "   'result': 'recovered safely',\n",
       "   'rocket': 'R-2A'},\n",
       "  {'altitude': 'orbital',\n",
       "   'dogs': 'Laika',\n",
       "   'result': 'no recovery system, died in space',\n",
       "   'rocket': 'R-7, Sputnik 2'}],\n",
       " '1958': [{'altitude': '451',\n",
       "   'dogs': 'Palma,Pushok',\n",
       "   'result': 'cabin decompression, both dogs died',\n",
       "   'rocket': 'R-5A'},\n",
       "  {'altitude': '212',\n",
       "   'dogs': 'Palma-2,Kusachka / Otvazhnaya',\n",
       "   'result': 'recovered safely',\n",
       "   'rocket': 'R-2A'},\n",
       "  {'altitude': '212',\n",
       "   'dogs': 'Palma-2,Kusachka / Otvazhnaya',\n",
       "   'result': 'recovered safely',\n",
       "   'rocket': 'R-2A'},\n",
       "  {'altitude': '451',\n",
       "   'dogs': 'Belyanka,Pestraya',\n",
       "   'result': 'recovered safely',\n",
       "   'rocket': 'R-5A'},\n",
       "  {'altitude': 'unknown',\n",
       "   'dogs': 'Damka-2,Kozyavka',\n",
       "   'result': 'recovered safely',\n",
       "   'rocket': 'unknown'},\n",
       "  {'altitude': '451',\n",
       "   'dogs': 'Knopka,Zhulba',\n",
       "   'result': 'parachute failed, both dogs died',\n",
       "   'rocket': 'R-5A'}],\n",
       " '1959': [{'altitude': '212',\n",
       "   'dogs': 'Kusachka / Otvazhnaya,Snezhinka / Zhemchuzhnaya',\n",
       "   'result': 'recovered safely',\n",
       "   'rocket': 'R-2A'},\n",
       "  {'altitude': '212',\n",
       "   'dogs': 'Kusachka / Otvazhnaya,Snezhinka / Zhemchuzhnaya',\n",
       "   'result': 'recovered safely',\n",
       "   'rocket': 'R-2A'}],\n",
       " '1960': [{'altitude': '212',\n",
       "   'dogs': 'Kusachka / Otvazhnaya,Malyok',\n",
       "   'result': 'recovered safely',\n",
       "   'rocket': 'R-2A'},\n",
       "  {'altitude': '212',\n",
       "   'dogs': 'Kusachka / Otvazhnaya,Snezhinka / Zhemchuzhnaya',\n",
       "   'result': 'recovered safely',\n",
       "   'rocket': 'R-2A'},\n",
       "  {'altitude': 'was to be orbital',\n",
       "   'dogs': 'Lisichka,Bars / Chaika',\n",
       "   'result': 'exploded during launch, both dogs died',\n",
       "   'rocket': 'R-7, Vostok Prototype'},\n",
       "  {'altitude': 'orbital',\n",
       "   'dogs': 'Belka,Strelka',\n",
       "   'result': 'spent one day in orbit, recovered safely',\n",
       "   'rocket': 'R-7, Sputnik 5'},\n",
       "  {'altitude': '212',\n",
       "   'dogs': 'Malyok,Palma-2',\n",
       "   'result': 'recovered safely',\n",
       "   'rocket': 'R-2A'},\n",
       "  {'altitude': 'unknown',\n",
       "   'dogs': 'Kusachka / Otvazhnaya,Neva',\n",
       "   'result': 'recovered safely',\n",
       "   'rocket': 'unknown'},\n",
       "  {'altitude': 'orbital',\n",
       "   'dogs': 'Mushka,Pchyolka',\n",
       "   'result': 'spent one day in orbit, capsule was destroyed, both dogs died',\n",
       "   'rocket': 'R-7, Sputnik 6'},\n",
       "  {'altitude': 'was to be orbital',\n",
       "   'dogs': 'Shutka,Kometka',\n",
       "   'result': 'upper stage failed, dogs recovered after a suborbital flight',\n",
       "   'rocket': 'R-7'}],\n",
       " '1961': [{'altitude': 'orbital',\n",
       "   'dogs': 'Chernuskha',\n",
       "   'result': 'one orbit, recovered safely',\n",
       "   'rocket': 'R-7, Sputnik 9'},\n",
       "  {'altitude': 'orbital',\n",
       "   'dogs': 'Zvezdochka',\n",
       "   'result': 'one orbit, recovered safely',\n",
       "   'rocket': 'R-7, Sputnik 10'}],\n",
       " '1966': [{'altitude': 'orbital',\n",
       "   'dogs': 'Ugolyok / Snezhok,Veterok / Bzdunok',\n",
       "   'result': 'recovered safely after a 22-day flight',\n",
       "   'rocket': 'Voskhod, Cosmos 110'}]}"
      ]
     },
     "metadata": {},
     "execution_count": 73
    }
   ],
   "source": [
    "ans"
   ]
  },
  {
   "cell_type": "code",
   "execution_count": 74,
   "metadata": {},
   "outputs": [],
   "source": [
    "final = json.dumps(ans)"
   ]
  },
  {
   "cell_type": "code",
   "execution_count": 75,
   "metadata": {},
   "outputs": [],
   "source": [
    "with open(\"flights.json\", \"w\") as outfile: \n",
    "    outfile.write(final) "
   ]
  },
  {
   "cell_type": "code",
   "execution_count": null,
   "metadata": {},
   "outputs": [],
   "source": []
  }
 ],
 "metadata": {
  "kernelspec": {
   "name": "Python 2.7.16 64-bit",
   "display_name": "Python 2.7.16 64-bit",
   "metadata": {
    "interpreter": {
     "hash": "767d51c1340bd893661ea55ea3124f6de3c7a262a8b4abca0554b478b1e2ff90"
    }
   }
  },
  "language_info": {
   "codemirror_mode": {
    "name": "ipython",
    "version": 3
   },
   "file_extension": ".py",
   "mimetype": "text/x-python",
   "name": "python",
   "nbconvert_exporter": "python",
   "pygments_lexer": "ipython3",
   "version": "2.7.16-final"
  }
 },
 "nbformat": 4,
 "nbformat_minor": 4
}